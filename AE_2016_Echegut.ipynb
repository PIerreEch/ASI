{
 "cells": [
  {
   "cell_type": "markdown",
   "metadata": {},
   "source": [
    "# ASI assessed exercise 2015/2016"
   ]
  },
  {
   "cell_type": "markdown",
   "metadata": {},
   "source": [
    "## Exercise 1\n",
    "#### Download the red and white wine .csv files and import them. "
   ]
  },
  {
   "cell_type": "code",
   "execution_count": null,
   "metadata": {
    "collapsed": false
   },
   "outputs": [],
   "source": [
    "import pandas as pd\n",
    "import sys\n",
    "red_wine = pd.read_csv('winequality-red.csv', sep = ';')\n",
    "white_wine = pd.read_csv('winequality-white.csv', sep = ';')"
   ]
  },
  {
   "cell_type": "markdown",
   "metadata": {},
   "source": [
    "## Exercise 2\n",
    "#### Plot bar-plots of the number of examples with each target value for the two datasets."
   ]
  },
  {
   "cell_type": "code",
   "execution_count": null,
   "metadata": {
    "collapsed": false
   },
   "outputs": [],
   "source": [
    "import matplotlib.pyplot as plt\n",
    "%matplotlib inline \n",
    "red_wine.groupby('quality').count()['fixed acidity'].plot(kind='bar')\n",
    "plt.xlabel(\"Target value\") \n",
    "plt.ylabel(\"Number\")\n",
    "plt.title('Figure 1: The number of examples for each target value for red wine')\n",
    "plt.grid(True,which=\"both\",ls=\"-\")\n",
    "plt.show()\n",
    "\n",
    "white_wine.groupby('quality').count()['fixed acidity'].plot(kind='bar')\n",
    "plt.xlabel(\"Target value\")\n",
    "plt.ylabel(\"Number\")\n",
    "plt.title('Figure 2: The number of examples for each target value for white wine')\n",
    "plt.grid(True,which=\"both\",ls=\"-\")\n",
    "plt.show()"
   ]
  },
  {
   "cell_type": "markdown",
   "metadata": {},
   "source": [
    "## Exercise 3\n",
    "#### Comment on these distributions. How might they effect the analysis?"
   ]
  },
  {
   "cell_type": "markdown",
   "metadata": {},
   "source": [
    "This ditributions look a lot like normal distributions. The datas which have a quality of 5 6 and 7 will be easy to find because there is a lot of data in this range, but the datas with a quality of 3,4 or 8 will be harder to find."
   ]
  },
  {
   "cell_type": "markdown",
   "metadata": {},
   "source": [
    "## Exercise 4 - Linear regression\n",
    "#### (a) We will now concentrate on the red wine data. Randomly split the data into a training and test set with 70% of the examples in the training and 30% in the test"
   ]
  },
  {
   "cell_type": "code",
   "execution_count": 3,
   "metadata": {
    "collapsed": false
   },
   "outputs": [],
   "source": [
    "import random\n",
    "splitData = int(70/100*len(red_wine))\n",
    "index = []\n",
    "for k in range(len(red_wine)):\n",
    "    index.append(k)\n",
    "random.shuffle(index)\n",
    "train_index = index[:splitData]\n",
    "test_index = index[splitData:]"
   ]
  },
  {
   "cell_type": "code",
   "execution_count": 4,
   "metadata": {
    "collapsed": false
   },
   "outputs": [],
   "source": [
    "train_data = red_wine.iloc[train_index].sort_index()\n",
    "test_data = red_wine.iloc[test_index].sort_index()"
   ]
  },
  {
   "cell_type": "markdown",
   "metadata": {},
   "source": [
    "#### (b) Fit a linear regression to the training data"
   ]
  },
  {
   "cell_type": "code",
   "execution_count": 5,
   "metadata": {
    "collapsed": false
   },
   "outputs": [],
   "source": [
    "import numpy as np\n",
    "#create X\n",
    "X = np.eye(len(train_data), 12)\n",
    "for k in range(len(train_data)) :\n",
    "    X[k][0] = 1\n",
    "k=1\n",
    "train_index.sort()\n",
    "for column in train_data :\n",
    "    if column != 'quality' :\n",
    "        for line in range(len(train_data)):\n",
    "            X[line][k] = train_data[column][train_index[line]]\n",
    "        k=k+1"
   ]
  },
  {
   "cell_type": "code",
   "execution_count": 6,
   "metadata": {
    "collapsed": false
   },
   "outputs": [],
   "source": [
    "#create t\n",
    "t=np.eye(len(train_data), 1)\n",
    "for line in range(len(train_data)):\n",
    "            t[line][0] = train_data['quality'][train_index[line]]"
   ]
  },
  {
   "cell_type": "code",
   "execution_count": 7,
   "metadata": {
    "collapsed": false
   },
   "outputs": [],
   "source": [
    "#compute w_hat\n",
    "w_hat = np.linalg.inv((X.transpose()).dot(X)).dot(X.transpose()).dot(t)"
   ]
  },
  {
   "cell_type": "code",
   "execution_count": 8,
   "metadata": {
    "collapsed": false
   },
   "outputs": [],
   "source": [
    "#compute the linear regression\n",
    "linreg = X.dot(w_hat)"
   ]
  },
  {
   "cell_type": "markdown",
   "metadata": {},
   "source": [
    "#### (c) Make a scatter plot the predictions versus the true targets for the test set and compute the mean squared error on the test set"
   ]
  },
  {
   "cell_type": "code",
   "execution_count": 9,
   "metadata": {
    "collapsed": true
   },
   "outputs": [],
   "source": [
    "X_test = np.eye(len(test_data), 12)\n",
    "for k in range(len(test_data)) :\n",
    "    X_test[k][0] = 1\n",
    "k=1\n",
    "test_index.sort()\n",
    "for column in test_data :\n",
    "    if column != 'quality' :\n",
    "        for line in range(len(test_data)):\n",
    "            X_test[line][k] = test_data[column][test_index[line]]\n",
    "        k=k+1\n",
    "t_test=np.eye(len(test_data), 1)\n",
    "for line in range(len(test_data)):\n",
    "            t_test[line][0] = test_data['quality'][test_index[line]]\n",
    "value_test = X_test.dot(w_hat)"
   ]
  },
  {
   "cell_type": "code",
   "execution_count": 10,
   "metadata": {
    "collapsed": false,
    "scrolled": false
   },
   "outputs": [
    {
     "data": {
      "image/png": "[encoded data removed]",
      "text/plain": [
       "<matplotlib.figure.Figure at 0x7b94950>"
      ]
     },
     "metadata": {},
     "output_type": "display_data"
    }
   ],
   "source": [
    "plt.xlim(3, 8)\n",
    "plt.ylim(0,10)\n",
    "plt.plot(value_test,t_test,'o', alpha = 0.2)\n",
    "plt.plot(linreg,linreg)\n",
    "plt.ylabel('Quality')\n",
    "plt.title('Predicton versus the true target')\n",
    "plt.show()"
   ]
  },
  {
   "cell_type": "code",
   "execution_count": 11,
   "metadata": {
    "collapsed": false
   },
   "outputs": [
    {
     "name": "stdout",
     "output_type": "stream",
     "text": [
      "The mean squarred error is : 0.390235248522\n"
     ]
    }
   ],
   "source": [
    "EMS = ((value_test - t_test)**2).mean()\n",
    "print(\"The mean squarred error is :\",EMS)"
   ]
  },
  {
   "cell_type": "markdown",
   "metadata": {},
   "source": [
    "#### (d) Suggest a benchmark that you could use to decide if this mean squared error value is good"
   ]
  },
  {
   "cell_type": "markdown",
   "metadata": {
    "collapsed": true
   },
   "source": [
    "We can compare this mean square error to the mean square error with an other method. One method which can be used is to make the matrix X with the same column but with different factors, with X=[1,x,x^2,x^3...]."
   ]
  },
  {
   "cell_type": "markdown",
   "metadata": {},
   "source": [
    "#### (e) Implement your benchmark."
   ]
  },
  {
   "cell_type": "code",
   "execution_count": 12,
   "metadata": {
    "collapsed": false
   },
   "outputs": [],
   "source": [
    "def benchmark(column,K) :\n",
    "    X = np.eye(len(train_data), K)\n",
    "    for k in range(len(train_data)) :\n",
    "        X[k][0] = 1\n",
    "    train_index.sort()\n",
    "    for k in range(1,K) :\n",
    "        for line in range(len(train_data)) :\n",
    "            X[line][k] = train_data[column][train_index[line]]**k\n",
    "        \n",
    "    t=np.eye(len(train_data), 1)\n",
    "    for line in range(len(train_data)):\n",
    "            t[line][0] = train_data['quality'][train_index[line]]\n",
    "            \n",
    "    w_hat = np.linalg.inv((X.transpose()).dot(X)).dot(X.transpose()).dot(t)\n",
    "    \n",
    "    linreg = X.dot(w_hat)\n",
    "    \n",
    "    X_test = np.eye(len(test_data), K)\n",
    "    for k in range(len(test_data)) :\n",
    "        X_test[k][0] = 1\n",
    "    k=1\n",
    "    test_index.sort()\n",
    "    for k in range(1,K) :\n",
    "        for line in range(len(test_data)) :\n",
    "            X_test[line][k] = test_data[column][test_index[line]]**k\n",
    "            \n",
    "    t_test=np.eye(len(test_data), 1)\n",
    "    for line in range(len(test_data)):\n",
    "                t_test[line][0] = test_data['quality'][test_index[line]]\n",
    "    value_test = X_test.dot(w_hat)\n",
    "    \n",
    "    EMS = ((value_test - t_test)**2).mean()\n",
    "    #print(\"The mean squarred error is :\")\n",
    "    return EMS"
   ]
  },
  {
   "cell_type": "code",
   "execution_count": 13,
   "metadata": {
    "collapsed": false
   },
   "outputs": [
    {
     "name": "stdout",
     "output_type": "stream",
     "text": [
      "With the best K and the best column, the mean square error is : 0.481972133329\n"
     ]
    }
   ],
   "source": [
    "benchmark_value = [min([benchmark(column,k) for k in range(1,6)]) for column in ['fixed acidity', 'volatile acidity', 'citric acid', 'residual sugar', 'chlorides', 'free sulfur dioxide', 'total sulfur dioxide', 'density', 'pH', 'sulphates', 'alcohol']]\n",
    "b=min(benchmark_value)\n",
    "print(\"With the best K and the best column, the mean square error is :\",b)"
   ]
  },
  {
   "cell_type": "markdown",
   "metadata": {},
   "source": [
    "#### (f) Briefly discuss the linear regression performance with respect to the benchmark"
   ]
  },
  {
   "cell_type": "markdown",
   "metadata": {
    "collapsed": true
   },
   "source": [
    "Even if we use the best column and the best K, the mean square error of the benchmark is still a lot higher than if we use all the column in the same time - around 20 percent higher in some cases. So the linear regression performance is good compared to my benchmark."
   ]
  },
  {
   "cell_type": "markdown",
   "metadata": {},
   "source": [
    "## Exercise 5 - Regularized linear regression\n",
    "#### (a) Implement regularized least squares and make a plot of the test performance versus the regularization parameter"
   ]
  },
  {
   "cell_type": "code",
   "execution_count": 14,
   "metadata": {
    "collapsed": false,
    "scrolled": true
   },
   "outputs": [],
   "source": [
    "A = np.eye(12, 12)\n",
    "A[0][0] = 0\n",
    "def RLS(l) :\n",
    "    theta = np.linalg.inv((X.transpose()).dot(X)-l*A).dot(X.transpose()).dot(t)\n",
    "    value = X_test.dot(theta)\n",
    "    EMS = ((value - t_test)**2).mean()\n",
    "    return EMS"
   ]
  },
  {
   "cell_type": "code",
   "execution_count": 15,
   "metadata": {
    "collapsed": false
   },
   "outputs": [
    {
     "data": {
      "text/plain": [
       "[<matplotlib.lines.Line2D at 0xabfd7b0>]"
      ]
     },
     "execution_count": 15,
     "metadata": {},
     "output_type": "execute_result"
    },
    {
     "data": {
      "image/png": "[encoded data removed]",
      "text/plain": [
       "<matplotlib.figure.Figure at 0xa160850>"
      ]
     },
     "metadata": {},
     "output_type": "display_data"
    }
   ],
   "source": [
    "plt.xlabel(\"Regularization parameter (x0.01)\")\n",
    "plt.ylabel(\"Test performance\")\n",
    "plt.plot([RLS(0.01*l) for l in range(100)])"
   ]
  },
  {
   "cell_type": "markdown",
   "metadata": {},
   "source": [
    "#### (b) Describe why this is not a good way of determining the value of the regularization parameter"
   ]
  },
  {
   "cell_type": "markdown",
   "metadata": {
    "collapsed": true
   },
   "source": [
    "This is not a good idea because we search it only for one test data, indeed, it would be better to do the same thing with different test and training data. That's why we should do an n-fold CV"
   ]
  },
  {
   "cell_type": "markdown",
   "metadata": {},
   "source": [
    "####  (c) Implement a 10-fold CV on the training data and use this to determine the value of the regularization parameter. Quote the optimal value, and the performance at this value on the test set"
   ]
  },
  {
   "cell_type": "code",
   "execution_count": 16,
   "metadata": {
    "collapsed": false
   },
   "outputs": [],
   "source": [
    "#It splits the train data to allow to take a part as train or test data for the CV\n",
    "index = [k for k in range(len(train_data))]\n",
    "random.shuffle(index)\n",
    "size = int(len(index)/10)\n",
    "train_split = []\n",
    "trainCV = []\n",
    "for k in range (9) :\n",
    "    split = []\n",
    "    for r in range(k*size,k*size+size):\n",
    "        split.append(index[r])\n",
    "    train_split.append(split)\n",
    "split = []\n",
    "for r in range(9*size, len(index)):\n",
    "    split.append(index[r])\n",
    "train_split.append(split)\n",
    "\n",
    "for k in range(10) :\n",
    "    trainCV.append(train_data.iloc[train_split[k]].sort_index())"
   ]
  },
  {
   "cell_type": "code",
   "execution_count": 17,
   "metadata": {
    "collapsed": false
   },
   "outputs": [],
   "source": [
    "# choose_train is the function that chooses which part of the train data will be the train data or the test data for the CV\n",
    "def choose_train(k) :\n",
    "    train_datas = []\n",
    "    test_datas = []\n",
    "    for r in range(10) :\n",
    "        if r!=k :\n",
    "            train_datas = train_datas + train_split[r]\n",
    "    train_datas.sort()\n",
    "    test_datas = train_split[k]\n",
    "    test_datas.sort()\n",
    "    trainCV = train_data.iloc[train_datas].sort_index()\n",
    "    testCV = train_data.iloc[test_datas].sort_index()\n",
    "    return [trainCV,testCV,train_datas,test_datas]\n",
    "    "
   ]
  },
  {
   "cell_type": "code",
   "execution_count": 18,
   "metadata": {
    "collapsed": false
   },
   "outputs": [],
   "source": [
    "#train is the function that create the linear regression on the train data for the CV\n",
    "def train(k) :\n",
    "    [train_datas, test_datas, train_indexes,test_indexes] = choose_train(k)\n",
    "    XCV = np.eye(len(train_datas), 12)\n",
    "    for k in range(len(train_datas)) :\n",
    "        XCV[k][0] = 1\n",
    "    k=0\n",
    "    \n",
    "    for j in train_indexes :\n",
    "        train_indexes[k] = train_datas.iloc[k].name\n",
    "        k=k+1\n",
    "    k=1\n",
    "    for column in train_datas :\n",
    "        if column != 'quality' :\n",
    "            for line in range(len(train_datas)):\n",
    "                XCV[line][k] = train_datas[column][train_indexes[line]]\n",
    "            k=k+1\n",
    "                        \n",
    "    tCV=np.eye(len(train_datas), 1)\n",
    "    for line in range(len(train_datas)):\n",
    "            tCV[line][0] = train_datas['quality'][train_indexes[line]]\n",
    "                        \n",
    "    w_hatCV = np.linalg.inv((XCV.transpose()).dot(XCV)).dot(XCV.transpose()).dot(tCV)\n",
    "    \n",
    "    linregCV = XCV.dot(w_hatCV)\n",
    "    \n",
    "    return [linregCV,w_hatCV,XCV,tCV]"
   ]
  },
  {
   "cell_type": "code",
   "execution_count": 19,
   "metadata": {
    "collapsed": false
   },
   "outputs": [],
   "source": [
    "#test is the function that computes the data needed from the test data\n",
    "def test(k) :\n",
    "    [train_datas, test_datas, train_indexes,test_indexes] = choose_train(k)\n",
    "    [a,b,c,d] = train(k)\n",
    "    XCV_test = np.eye(len(test_datas), 12)\n",
    "    for k in range(len(test_datas)) :\n",
    "        XCV_test[k][0] = 1\n",
    "    k=0\n",
    "    test_indexes2 = []\n",
    "    for j in test_indexes :\n",
    "        test_indexes2.append(test_datas.iloc[k].name)\n",
    "        k=k+1\n",
    "    k=1\n",
    "    for column in train_datas :\n",
    "        if column != 'quality' :\n",
    "            for line in range(len(test_datas)):\n",
    "                XCV_test[line][k] = test_datas[column][test_indexes2[line]]\n",
    "            k = k+1\n",
    "            \n",
    "    tCV_test=np.eye(len(test_datas), 1)\n",
    "    for line in range(len(test_datas)):\n",
    "                tCV_test[line][0] = test_datas['quality'][test_indexes2[line]]\n",
    "    value_testCV = XCV_test.dot(b)\n",
    "    return [XCV_test,tCV_test,value_testCV]"
   ]
  },
  {
   "cell_type": "code",
   "execution_count": 20,
   "metadata": {
    "collapsed": false
   },
   "outputs": [],
   "source": [
    "#It stocks the data needed to improve computation time\n",
    "[linregCV,w_hatCV,XCV,tCV]=[[],[],[],[]]\n",
    "[XCV_test,tCV_test,value_testCV] = [[],[],[]]\n",
    "for k in range(10):\n",
    "    [linregCV1,w_hatCV1,XCV1,tCV1]= train(k)\n",
    "    [XCV_test1,tCV_test1,value_testCV1] = test(k)\n",
    "    i=0\n",
    "    for element in [linregCV,w_hatCV,XCV,tCV,XCV_test,tCV_test,value_testCV] :\n",
    "        element.append([linregCV1,w_hatCV1,XCV1,tCV1,XCV_test1,tCV_test1,value_testCV1][i])\n",
    "        i = i+1       "
   ]
  },
  {
   "cell_type": "code",
   "execution_count": 21,
   "metadata": {
    "collapsed": false
   },
   "outputs": [],
   "source": [
    "#It computes the mean squared error \n",
    "def RLSCV(k,l) :\n",
    "    #[linregCV,w_hatCV,XCV,tCV] = train(k) \n",
    "    #[XCV_test,tCV_test,value_testCV] = test(k)\n",
    "    theta = np.linalg.inv((XCV[k].transpose()).dot(XCV[k])-l*A).dot(XCV[k].transpose()).dot(tCV[k])\n",
    "    value = XCV_test[k].dot(theta)\n",
    "    EMS = ((value - tCV_test[k])**2).mean()\n",
    "    return EMS"
   ]
  },
  {
   "cell_type": "code",
   "execution_count": 22,
   "metadata": {
    "collapsed": false
   },
   "outputs": [],
   "source": [
    "def mean(liste) :\n",
    "    mean1=0\n",
    "    for k in range(len(liste)) :\n",
    "        mean1 = mean1 + liste[k]\n",
    "    mean1 = mean1/len(liste)\n",
    "    return mean1"
   ]
  },
  {
   "cell_type": "code",
   "execution_count": 23,
   "metadata": {
    "collapsed": false
   },
   "outputs": [],
   "source": [
    "#It computes the mean squarred error for the 10 splits of train data and take the mean for different regularization parameters\n",
    "RLSCVMean = []\n",
    "for l in range(1000):\n",
    "    RLSCVtmp = []\n",
    "    for k in range(10):\n",
    "        RLSCVtmp.append(RLSCV(k,0.01*l))\n",
    "    RLSCVMean.append(mean(RLSCVtmp))      "
   ]
  },
  {
   "cell_type": "code",
   "execution_count": 24,
   "metadata": {
    "collapsed": false
   },
   "outputs": [],
   "source": [
    "#plt.plot(RLSCVMean)\n",
    "#plt.ylim(0,5)"
   ]
  },
  {
   "cell_type": "code",
   "execution_count": 25,
   "metadata": {
    "collapsed": false
   },
   "outputs": [
    {
     "name": "stdout",
     "output_type": "stream",
     "text": [
      "The best value is \n",
      "0.01\n"
     ]
    }
   ],
   "source": [
    "best_l = 0.01*RLSCVMean.index(min(RLSCVMean))\n",
    "print(\"The best value is \" )\n",
    "print(best_l)"
   ]
  },
  {
   "cell_type": "markdown",
   "metadata": {},
   "source": [
    "#### (d) Compare the performance with the standard linear regression case, discussing possible reasons for any change in performance"
   ]
  },
  {
   "cell_type": "code",
   "execution_count": 26,
   "metadata": {
    "collapsed": false
   },
   "outputs": [
    {
     "name": "stdout",
     "output_type": "stream",
     "text": [
      "The value of the mean square error with the standard linear regression is 0.390235\n",
      "The value of the mean square error with the regularized linear regression is 0.390430\n",
      "The difference between this two values is -0.000195\n"
     ]
    }
   ],
   "source": [
    "print(\"The value of the mean square error with the standard linear regression is %f\" %(EMS))\n",
    "print(\"The value of the mean square error with the regularized linear regression is %f\" %(RLS(best_l)))\n",
    "print(\"The difference between this two values is %f\" %(EMS-RLS(best_l)))"
   ]
  },
  {
   "cell_type": "markdown",
   "metadata": {},
   "source": [
    "The best regularization parameter is near from zero, that is why their is not a big changement between the standard and the regularized linear regresion. In some cases, the standard method is better than the regularized one. This show an exemple of overfitting : by doing better on the train data, we do worse on the test data."
   ]
  },
  {
   "cell_type": "markdown",
   "metadata": {},
   "source": [
    "## Exercise 6 - Classification\n",
    "#### (a) Describe one limitation of using regression for this particular task?"
   ]
  },
  {
   "cell_type": "markdown",
   "metadata": {
    "collapsed": true
   },
   "source": [
    "The regression is good when the information that we need is continuous, however, the quality can only be an integer value, so we can't use the regression in this case, we have to use the classification."
   ]
  },
  {
   "cell_type": "markdown",
   "metadata": {},
   "source": [
    "#### (b) Pick either Naive Bayes or KNN. Describe a positive and a negative feature of your classifier with respect to this class. "
   ]
  },
  {
   "cell_type": "markdown",
   "metadata": {
    "collapsed": true
   },
   "source": [
    "I chose KNN. I can use my benchmark to see what are the features that vary like the quality and the ones which have a lower influence on it :"
   ]
  },
  {
   "cell_type": "code",
   "execution_count": 27,
   "metadata": {
    "collapsed": false
   },
   "outputs": [
    {
     "name": "stdout",
     "output_type": "stream",
     "text": [
      "3\n",
      "10\n"
     ]
    }
   ],
   "source": [
    "#It allows to found the feature which fit well or bad the quality\n",
    "a=max(benchmark_value)\n",
    "b=min(benchmark_value)\n",
    "print(benchmark_value.index(a))\n",
    "print(benchmark_value.index(b))"
   ]
  },
  {
   "cell_type": "markdown",
   "metadata": {},
   "source": [
    "In almost all the cases, we can see that the \"residual sugar\" feature is a negative feature, because the quality does not depend a lot on it. Moreover, a positive feature is \"alcohol\" because the quality depends a lot on it."
   ]
  },
  {
   "cell_type": "markdown",
   "metadata": {},
   "source": [
    "#### (c) Describe any data pre-processing that you suggest for this data and your chosen classifier. "
   ]
  },
  {
   "cell_type": "markdown",
   "metadata": {
    "collapsed": true
   },
   "source": [
    "To apply a KNN classification, I need to compute a distance between the different wine, and, to do that, I need all the features to have the same weight - for exemple, the density feature would be disadvantaged a lot if we don't ponderate all the data. With that, I can compute the euclidian distance with the same weight for all the features."
   ]
  },
  {
   "cell_type": "code",
   "execution_count": 28,
   "metadata": {
    "collapsed": false
   },
   "outputs": [],
   "source": [
    "pond = []\n",
    "k=0\n",
    "pond_data = pd.read_csv('winequality-red.csv', sep = ';')\n",
    "for column in train_data :\n",
    "    if column != 'quality' :\n",
    "        pond.append(max(pond_data[column]) - min(pond_data[column]))\n",
    "        pond_data[column] = pond_data[column]/pond[k]\n",
    "        k=k+1\n",
    "del pond_data['quality']"
   ]
  },
  {
   "cell_type": "markdown",
   "metadata": {},
   "source": [
    "#### (d) Implement your classifier and optimize its parameters. Make sure your optimization is clearly commented. Use classification accuracy as your figure of merit "
   ]
  },
  {
   "cell_type": "code",
   "execution_count": 29,
   "metadata": {
    "collapsed": false
   },
   "outputs": [],
   "source": [
    "# Data frame are too long to be read, so I have to work with lists\n",
    "k=0\n",
    "pond_data1 = []\n",
    "for column in pond_data :\n",
    "    pond_data2 = []\n",
    "    for l in range(len(pond_data)) :\n",
    "        pond_data2.append(pond_data[column][l])\n",
    "    pond_data1.append(pond_data2)\n",
    "    k += 1\n",
    "\n",
    "#computation of the euclidian distance :\n",
    "import math\n",
    "def eucldistance(i,j) :\n",
    "    sum = 0\n",
    "    for column in range(len(pond_data1)) :\n",
    "            sum = sum + (pond_data1[column][i] - pond_data1[column][j])**2\n",
    "    #for column in pond_data :\n",
    "    #    sum = sum + (pond_data[column][i] - pond_data[column][j])**2\n",
    "    return math.sqrt(sum)   "
   ]
  },
  {
   "cell_type": "code",
   "execution_count": 30,
   "metadata": {
    "collapsed": false
   },
   "outputs": [],
   "source": [
    "import time\n",
    "# found the k nearest neighbors\n",
    "def KNNfound(i,K) :\n",
    "    eucl = []\n",
    "    near = []\n",
    "    train_index1 = train_index[:]\n",
    "    for j in train_index :\n",
    "        eucl.append(eucldistance(i,j))\n",
    "    eucl1 = eucl[:]\n",
    "    eucl.sort()\n",
    "    for k in range(K) : \n",
    "        near.append(train_index1[eucl1.index(eucl[k])])\n",
    "        # this line is to avoid the fact that the same line is taken two times \n",
    "        eucl1[eucl1.index(eucl[k])] = 10000\n",
    "    return near\n",
    "# found the quality of the k nearest neighbors\n",
    "def KNNquality(i,K) :\n",
    "    near = KNNfound(i,K)\n",
    "    qual = []\n",
    "    for k in range(K) :\n",
    "        qual.append(red_wine['quality'][near[k]]) \n",
    "    return qual\n",
    "# found the quality which appear the most\n",
    "def KNN(i,K) :\n",
    "    qual = KNNquality(i,K)\n",
    "    choice = [0,0,0,0,0,0,0,0,0,0,0]\n",
    "    for k in range(K) :\n",
    "        choice[qual[k]] += 1\n",
    "    quality = choice.index(max(choice))\n",
    "    return quality\n",
    "# compute the accuracy\n",
    "def acc() :\n",
    "    count = 0\n",
    "    for k in range(len(test_index)) :\n",
    "        if pred[k] == red_wine['quality'][test_index[k]] :\n",
    "                   count += 1\n",
    "    return 100*count/len(test_index)"
   ]
  },
  {
   "cell_type": "markdown",
   "metadata": {},
   "source": [
    "Now that the computation is done, I have first to optimize the parameters on the train data.\n",
    "To optimize the parameters, I will make a 10-fold CV on the train data. I can use again trainCV and the function choose_train made in part 5"
   ]
  },
  {
   "cell_type": "code",
   "execution_count": 31,
   "metadata": {
    "collapsed": false
   },
   "outputs": [],
   "source": [
    "# found the k nearest neighbors\n",
    "def KNNfoundCV(i,K) :\n",
    "    eucl = []\n",
    "    near = []\n",
    "    train_indexes1 = []\n",
    "    train_indexes1 = [train_index[k] for k in train_indexes]\n",
    "    for j in train_indexes1 :\n",
    "        eucl.append(eucldistance(i,j))\n",
    "    for k in range(K) :\n",
    "        near.append(train_indexes1[eucl.index(min(eucl))])\n",
    "        eucl[eucl.index(min(eucl))] = 1000\n",
    "    return near\n",
    "# found the quality of the k nearest neighbors\n",
    "def KNNqualityCV(i,K) :\n",
    "    near = KNNfoundCV(i,K)\n",
    "    qual = []\n",
    "    for k in range(K) :\n",
    "        qual.append(red_wine['quality'][near[k]]) \n",
    "    return qual\n",
    "# found the quality which appear the most\n",
    "def KNNCV(i,K) :\n",
    "    qual = KNNqualityCV(i,K)\n",
    "    choice = [0,0,0,0,0,0,0,0,0,0,0]\n",
    "    for k in range(K) :\n",
    "        choice[qual[k]] += 1\n",
    "    quality = choice.index(max(choice))\n",
    "    return quality\n",
    "# compute the accuracy\n",
    "def accCV() :\n",
    "    count = 0\n",
    "    for k in range(len(test_indexes)) :\n",
    "        if predCV[k] == red_wine['quality'][train_index[test_indexes[k]]] :\n",
    "                   count += 1\n",
    "    return 100*count/len(test_indexes)"
   ]
  },
  {
   "cell_type": "code",
   "execution_count": 32,
   "metadata": {
    "collapsed": false
   },
   "outputs": [
    {
     "name": "stdout",
     "output_type": "stream",
     "text": [
      "With k = 1 , accuracy = 61.204954954954964 %\n",
      "With k = 2 , accuracy = 56.82432432432434 %\n",
      "With k = 3 , accuracy = 57.461711711711715 %\n",
      "With k = 4 , accuracy = 57.358108108108105 %\n",
      "With k = 5 , accuracy = 58.17567567567568 %\n"
     ]
    }
   ],
   "source": [
    "# make the optimization on the train data\n",
    "test_index.sort()\n",
    "K=5\n",
    "accur = []\n",
    "for k in range(1,K+1) :\n",
    "    accu = []\n",
    "    for l in range(10):\n",
    "        [train_datas, test_datas, train_indexes,test_indexes] = choose_train(l)\n",
    "        predCV = []\n",
    "        for i in [train_index[k] for k in test_indexes] :\n",
    "            predCV.append(KNNCV(i,k))\n",
    "        accu.append(accCV())\n",
    "    accur.append(mean(accu))\n",
    "    print('With k =',k,', accuracy =',mean(accu),'%') "
   ]
  },
  {
   "cell_type": "code",
   "execution_count": 33,
   "metadata": {
    "collapsed": false,
    "scrolled": true
   },
   "outputs": [
    {
     "name": "stdout",
     "output_type": "stream",
     "text": [
      "The best number of neighbor is 1\n"
     ]
    }
   ],
   "source": [
    "K = accur.index(max(accur)) + 1\n",
    "print('The best number of neighbor is',K)"
   ]
  },
  {
   "cell_type": "code",
   "execution_count": 34,
   "metadata": {
    "collapsed": false
   },
   "outputs": [
    {
     "name": "stdout",
     "output_type": "stream",
     "text": [
      "With k = 1 , accuracy = 59.791666666666664 %\n"
     ]
    }
   ],
   "source": [
    "# make the classification on the test data\n",
    "test_index.sort()\n",
    "pred = []\n",
    "for l in test_index :\n",
    "    pred.append(KNN(l,K))\n",
    "print('With k =',K,', accuracy =',acc(),'%')"
   ]
  },
  {
   "cell_type": "markdown",
   "metadata": {},
   "source": [
    "#### (e) Display the confusion matrix on the text data "
   ]
  },
  {
   "cell_type": "code",
   "execution_count": 35,
   "metadata": {
    "collapsed": false,
    "scrolled": true
   },
   "outputs": [],
   "source": [
    "confmat = np.eye(max(t)-min(t)+1)\n",
    "count = 0\n",
    "compare = np.eye(len(test_index),2)\n",
    "for k in range(len(test_index)) :\n",
    "    compare[k][0]=red_wine['quality'][test_index[k]]\n",
    "    compare[k][1]= pred[k]\n",
    "#compare = np.sort(compare,0)\n",
    "for l in range(int(min(t)),int(max(t))+1) :\n",
    "    for m in range(int(min(t)),int(max(t)+1)) :\n",
    "        count = 0\n",
    "        for k in range(len(compare)):\n",
    "            if int(compare[k][0]) == l and int(compare[k][1]) == m :\n",
    "                count += 1\n",
    "        confmat[l-int(min(t))][m-int(min(t))] = count"
   ]
  },
  {
   "cell_type": "code",
   "execution_count": 36,
   "metadata": {
    "collapsed": false,
    "scrolled": true
   },
   "outputs": [
    {
     "name": "stdout",
     "output_type": "stream",
     "text": [
      "the confidence matrix is :\n",
      "[[   0.    2.    2.    0.    0.    0.]\n",
      " [   0.    1.    8.    5.    0.    0.]\n",
      " [   0.    8.  141.   47.    5.    0.]\n",
      " [   0.    3.   58.  112.   21.    0.]\n",
      " [   0.    1.    6.   21.   32.    3.]\n",
      " [   0.    0.    0.    2.    1.    1.]]\n"
     ]
    }
   ],
   "source": [
    "print(\"the confidence matrix is :\")\n",
    "print(confmat)"
   ]
  },
  {
   "cell_type": "markdown",
   "metadata": {},
   "source": [
    "#### (f) Discuss the performance and suggest a way in which they could be improved "
   ]
  },
  {
   "cell_type": "markdown",
   "metadata": {
    "collapsed": true
   },
   "source": [
    "The performance is quite good. Indeed, while the accuracy is not very good (around 60 percent), the predicted quality is almost every time near from the actual quality. As expected in the question 3, the qualities 5,6 and 7 are more easy to find, because we can see in the matrix that we find the good quality in many cases. But this performance is far to be perfect. Indeed, to improve this classification, we could, insteed of choosing the quality which has the more of occurence in the k neighbors, we can divide the chances to choose one quality by the distance to this point. As instance, if, for one wine, the quality of the nearest neighbors is [3,3,2,2,2], and the distance to this neighbors is [0.5,1,2,4,6].With the method that I used, I would choose the quality 2 for the wine, while if I choose the other method, the quality 3 has a score of 1/0.5+1/1 = 3, while the quality 2 has a score of 1/2+1/4+1/6=0.92. The score of the quality 3 is better than the score of 2, so the quality chosen is 3 in this case. An other way to improve the performance could be to ponderate the feateures depending on if they are good or bad features insteed of using the euclidian distance. For example, the \"residual sugar\" feature would have a weight of 0.5 in the sume while \"alcohol\" would have 2. So the good features would be more important than the bad features."
   ]
  }
 ],
 "metadata": {
  "kernelspec": {
   "display_name": "Python 3",
   "language": "python",
   "name": "python3"
  },
  "language_info": {
   "codemirror_mode": {
    "name": "ipython",
    "version": 3
   },
   "file_extension": ".py",
   "mimetype": "text/x-python",
   "name": "python",
   "nbconvert_exporter": "python",
   "pygments_lexer": "ipython3",
   "version": "3.5.1"
  }
 },
 "nbformat": 4,
 "nbformat_minor": 0
}
